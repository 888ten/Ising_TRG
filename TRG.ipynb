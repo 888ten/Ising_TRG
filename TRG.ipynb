{
 "cells": [
  {
   "cell_type": "markdown",
   "metadata": {},
   "source": [
    "# 2次元のIsing modelをTensor renormalization groupを用いて計算\n",
    "\n",
    "ハミルトニアンが次の式で与えられる正方格子上の2次元 Ising modelを計算します。\n",
    " $$ \\mathcal{H} = -J \\sum_{\\langle i,j\\rangle} \\sigma_i \\sigma_j$$\n",
    "ここで $\\sigma_i = \\pm 1$\n",
    "\n",
    "#### パラメータ\n",
    "* n: 系の大きさ$L = 2^n$を指定するパラメータ\n",
    "* D: ボンド次元"
   ]
  },
  {
   "cell_type": "code",
   "execution_count": null,
   "metadata": {},
   "outputs": [],
   "source": [
    "#ライブラリのインストール\n",
    "!pip install numpy\n",
    "!pip install matplotlib\n",
    "!pip install scipy\n",
    "!pip install numba"
   ]
  },
  {
   "cell_type": "code",
   "execution_count": null,
   "metadata": {},
   "outputs": [],
   "source": [
    "#ライブラリやモジュールの読み込み\n",
    "import numpy as np\n",
    "try:\n",
    "    import TRG_library\n",
    "except ImportError:\n",
    "    !wget https://raw.githubusercontent.com/888ten/Ising_TRG/main/TRG_library.py\n",
    "    import TRG_library\n",
    "import os\n",
    "import pickle\n",
    "from matplotlib import pyplot"
   ]
  },
  {
   "cell_type": "code",
   "execution_count": null,
   "metadata": {},
   "outputs": [],
   "source": [
    "#####パラメータを設定\n",
    "Tc = 2.0 / np.log(1.0 + np.sqrt(2.0))\n",
    "n = 10 ## L = 2^n\n",
    "T_min = 2.0 ##最低温度\n",
    "T_max = 2.7 ##最高温度\n",
    "T_step = 0.01\n",
    "\n",
    "T_list = np.arange(T_min, T_max, T_step)\n",
    "D = 24 ##ボンド次元\n",
    "L = 2 ** n\n",
    "TRG_step = 2 * n - 1\n",
    "#####\n",
    "\n",
    "data_file = f\"trgdata_ex1-1_D{D}_L{L}.dat\"\n",
    "\n",
    "def Calculate_EC(T, f):\n",
    "    T_num = len(T)\n",
    "    E = np.empty(T_num - 2)\n",
    "    C = np.empty(T_num - 2)\n",
    "    T_cut = np.empty(T_num - 2)\n",
    "    for i in range(T_num - 2):\n",
    "        E[i] = f[i + 1] - T[i + 1] * (f[i + 2] - f[i]) / (T[i + 2] - T[i])\n",
    "        C[i] = -T[i + 1] * (f[i + 2] + f[i] - 2.0 * f[i + 1]) / (T[i + 2] - T[i + 1]) ** 2\n",
    "        T_cut[i] = T[i + 1]\n",
    "    return T_cut, E, C\n",
    "\n",
    "def read_free_energy(file_name):\n",
    "    T = []\n",
    "    f = []\n",
    "    for line in open(file_name, \"r\"):\n",
    "        data = line.split()\n",
    "        if data[0] == \"#\":\n",
    "            header = line\n",
    "            continue\n",
    "        T.append(float(data[4]))\n",
    "        f.append(float(data[6]))\n",
    "    return T, f\n",
    "\n",
    "# TRGシミュレーション\n",
    "free_energy_density = []\n",
    "for T in T_list:\n",
    "    free_energy_density.append(TRG_library.TRG_Square_Ising(T, D, TRG_step))\n",
    "\n",
    "filename_exact = f\"exact_output/free_energy_exact_L{L}.dat\"\n",
    "if not os.path.exists(filename_exact):\n",
    "    !wget https://raw.githubusercontent.com/888ten/Ising_TRG/main/{filename_exact} -P exact_output\n",
    "\n",
    "T_e, f_e = read_free_energy(filename_exact)\n",
    "\n",
    "T_cut, E, C = Calculate_EC(T_list, free_energy_density)\n",
    "\n",
    "T_cut_e, E_e, C_e = Calculate_EC(T_e, f_e)\n",
    "\n",
    "# データ保存\n",
    "with open(data_file, \"wb\") as f:\n",
    "    obs_list = [free_energy_density, E, C, T_list]\n",
    "    pickle.dump(obs_list, f)"
   ]
  },
  {
   "cell_type": "code",
   "execution_count": null,
   "metadata": {},
   "outputs": [],
   "source": [
    "pyplot.figure()\n",
    "pyplot.title(\"Free energy\")\n",
    "pyplot.xlabel(\"$T$\")\n",
    "pyplot.ylabel(\"$f$\")\n",
    "pyplot.plot(T_list, free_energy_density, \"o\", label=f\"L={L}: TRG\", color=\"purple\", markersize=3)\n",
    "pyplot.plot(T_e, f_e, \"-\", label=\"exact\", color=\"green\")\n",
    "pyplot.legend()"
   ]
  },
  {
   "cell_type": "code",
   "execution_count": null,
   "metadata": {},
   "outputs": [],
   "source": [
    "result = []\n",
    "for x, y in zip(f_e,free_energy_density):\n",
    "    relative_error = abs(x - y) / abs(x)  # 相対誤差の計算\n",
    "    result.append(relative_error)"
   ]
  },
  {
   "cell_type": "code",
   "execution_count": null,
   "metadata": {},
   "outputs": [],
   "source": [
    "pyplot.figure()\n",
    "pyplot.title(\"relative error\")\n",
    "pyplot.xlabel(\"$T$\")\n",
    "pyplot.ylabel(\"$relative error$\")\n",
    "pyplot.plot(T_list,result,\"o\",label = \"relative error of free energy\", color = \"purple\")\n",
    "pyplot.legend()"
   ]
  },
  {
   "cell_type": "code",
   "execution_count": null,
   "metadata": {},
   "outputs": [],
   "source": [
    "import matplotlib.pyplot as plt\n",
    "\n",
    "plt.figure()\n",
    "plt.title(\"relative error\")\n",
    "plt.xlabel(\"$T$\")\n",
    "plt.ylabel(\"$relative error$\")\n",
    "plt.xlim(2.1,2.5)\n",
    "plt.ylim(10**(-12), 10**(-5.5))\n",
    "plt.semilogy(T_list, result, \"-\", label = \"relative error of free energy\", color = \"purple\")\n",
    "plt.legend()\n",
    "plt.show()"
   ]
  },
  {
   "cell_type": "code",
   "execution_count": null,
   "metadata": {},
   "outputs": [],
   "source": [
    "pyplot.figure()\n",
    "pyplot.title(\"Energy\")\n",
    "pyplot.xlabel(\"$T$\")\n",
    "pyplot.ylabel(\"$E$\")\n",
    "pyplot.plot(T_cut, E, \"o\", label=f\"L={L}\", color=\"purple\", markersize=3)\n",
    "pyplot.plot(T_cut_e, E_e, \"-\", label=\"exact\", color=\"green\")\n",
    "pyplot.legend()"
   ]
  },
  {
   "cell_type": "code",
   "execution_count": null,
   "metadata": {},
   "outputs": [],
   "source": [
    "pyplot.figure()\n",
    "pyplot.title(\"Specific heat\")\n",
    "pyplot.xlabel(\"$T$\")\n",
    "pyplot.ylabel(\"$C$\")\n",
    "pyplot.plot(T_cut, C, \"o\", label=f\"L={L}\", color=\"purple\", markersize=3)\n",
    "pyplot.plot(T_cut_e, C_e, \"-\", label=\"exact\", color=\"green\")\n",
    "pyplot.legend()"
   ]
  }
 ],
 "metadata": {
  "kernelspec": {
   "display_name": "base",
   "language": "python",
   "name": "python3"
  },
  "language_info": {
   "codemirror_mode": {
    "name": "ipython",
    "version": 3
   },
   "file_extension": ".py",
   "mimetype": "text/x-python",
   "name": "python",
   "nbconvert_exporter": "python",
   "pygments_lexer": "ipython3",
   "version": "3.10.9"
  },
  "orig_nbformat": 4
 },
 "nbformat": 4,
 "nbformat_minor": 2
}
